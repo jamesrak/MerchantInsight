{
 "cells": [
  {
   "cell_type": "code",
   "execution_count": 25,
   "metadata": {
    "collapsed": false
   },
   "outputs": [],
   "source": [
    "from pyspark import SparkContext\n",
    "from pyspark.sql import SparkSession\n",
    "from pyspark.conf import SparkConf\n",
    "from pyspark.ml import Pipeline, PipelineModel\n",
    "from pyspark.ml.feature import StringIndexer, IndexToString, VectorAssembler\n",
    "from pyspark.ml.feature import OneHotEncoder, StringIndexer\n",
    "from pyspark.sql.types import IntegerType, FloatType, DateType\n",
    "from pyspark.sql.functions import udf\n",
    "from pyspark.sql import functions as F\n",
    "import datetime, time, calendar"
   ]
  },
  {
   "cell_type": "code",
   "execution_count": 26,
   "metadata": {
    "collapsed": false
   },
   "outputs": [
    {
     "name": "stdout",
     "output_type": "stream",
     "text": [
      "<pyspark.context.SparkContext object at 0x000002173CBC2C50>\n"
     ]
    }
   ],
   "source": [
    "sc = SparkContext.getOrCreate()\n",
    "print(sc)"
   ]
  },
  {
   "cell_type": "code",
   "execution_count": 27,
   "metadata": {
    "collapsed": true
   },
   "outputs": [],
   "source": [
    "# join \n",
    "# ip <-> ar <-> mb\n",
    "#           <-> dept\n",
    "\n",
    "# ip <-> ar : \"ip_id\"\n",
    "# ip <-> cc_cst : \"x\"\n",
    "# cc_cst <-> cc_visa : \"x\"\n",
    "# ar <-> mb : \"src_ar_id\"\n",
    "# ar <-> dept : \"ar_id\"\n",
    "\n",
    "# DerivedFeature\n",
    "# [PerWeek & PerMonth]\n",
    "# noTransferInUnique, noTransferOutUnique, noTransferIn, noTransferOut, ratioTransferIn, ratioTransferOut\n",
    "# avgTransferInAmount, avgTransferOutAmount, avgTransferAmount\n",
    "# noFeeAmountGroupBy(0,10,25,35)\n",
    "# noTransferInPeriod(morning,afternoon,evening,night :: 6hr)\n",
    "# noTransferOutPeriod(morning,afternoon,evening,night :: 6hr)\n",
    "# noTransferInPerDay(Mon-Thu, Fri, Sat-Sun [avg]) <-- PerMonth\n",
    "# noTransferOutPerDay(Mon-Thu, Fri, Sat-Sun [avg]) <-- PerMonth\n",
    "# avgTransferInHoliday, avgTransferOutHoliday\n",
    "\n",
    "\n",
    "# Deposit\n",
    "# [PerWeek & PerMonth]\n",
    "# noBranchVisit,noBranchVisitUnique,ratioBranchVisit\n",
    "# avgTransferInAmount, avgTransferOutAmount, avgTransferAmount\n",
    "# noDepositAmount, noWithdrawAmount\n",
    "# avgDepositAmount, avgWithdrawAmount\n",
    "# noWithdrawPeriod(morning,afternoon,evening,night :: 6hr)\n",
    "# noDepositPeriod(morning,afternoon,evening,night :: 6hr)\n",
    "# noDepositPerDay(Mon-Thu, Fri, Sat-Sun [avg]) <-- PerMonth\n",
    "# noWithdrawPerDay(Mon-Thu, Fri, Sat-Sun [avg]) <-- PerMonth\n",
    "# noTransferInUnique, noTransferOutUnique, noTransferIn, noTransferOut, ratioTransferIn, ratioTransferOut\n",
    "# noTransferInPerDay(Mon-Thu, Fri, Sat-Sun [avg]) <-- PerMonth\n",
    "# noTransferOutPerDay(Mon-Thu, Fri, Sat-Sun [avg]) <-- PerMonth\n",
    "# ??Balance??\n",
    "# ??CBS Sub Operation Code??\n",
    "# ahrzd_usr_id <-- [KMP, EDC, ATM]\n",
    "\n",
    "# Credit\n",
    "\n",
    "\n",
    "# Approach\n",
    "# 1 Detech ลูกน้องโดยดูจำนวนเงินที่รับมากที่สุดแล้วเช็ค\n",
    "\n",
    "# Visualize\n",
    "# Location\n",
    "\n",
    "# feature = [\"vc_ip.ip_id\"]\n",
    "# category = [\"vc_ip.ip_tp_cd\",\"vc_ip.mar_st_cd\",\"vc_ip.ctf_tp_cd\",\"vc_ip.ocp_cd\",\"vc_ip.idv_incm_seg_cd\"]\n",
    "# filteredFeature = [\"vc_ip.prvn_f\",\"vc_ip.ip_st_cd\",\"vc_ip.death_f\"]"
   ]
  },
  {
   "cell_type": "code",
   "execution_count": 28,
   "metadata": {
    "collapsed": false
   },
   "outputs": [
    {
     "name": "stdout",
     "output_type": "stream",
     "text": [
      "<pyspark.sql.session.SparkSession object at 0x000002173E42CAC8>\n"
     ]
    }
   ],
   "source": [
    "spark = (SparkSession\n",
    "         .builder\n",
    "         .appName(\"MerchantInsight\")\n",
    "         .config(\"spark.sql.warehouse.dir\", \"/opt/jupyter_workspace/spark-warehouse\")\n",
    "         .getOrCreate())\n",
    "print (spark)"
   ]
  },
  {
   "cell_type": "code",
   "execution_count": 29,
   "metadata": {
    "collapsed": false
   },
   "outputs": [],
   "source": [
    "mb_trans_data =(spark\n",
    "      .read\n",
    "      .option(\"header\", \"true\")\n",
    "      .option(\"inferSchema\",\"true\")\n",
    "      .csv('mock_data/mock-transaction.csv'))"
   ]
  },
  {
   "cell_type": "code",
   "execution_count": 30,
   "metadata": {
    "collapsed": false
   },
   "outputs": [
    {
     "name": "stdout",
     "output_type": "stream",
     "text": [
      "+--------+--------+--------+------+------+------+-------+--------+-------+\n",
      "|fm_ar_id|to_ar_id|ptn_yyyy|ptn_mm|ptn_dd|ptn_hr|ptn_min| tfr_amt|fee_amt|\n",
      "+--------+--------+--------+------+------+------+-------+--------+-------+\n",
      "|     128|     140|    2016|     6|    19|    11|     22|  6201.0|      0|\n",
      "|     114|     150|    2016|     8|     4|    13|     37| 24021.0|      0|\n",
      "|     131|     120|    2016|     7|     6|    13|     31| 2361.28|      0|\n",
      "|     144|     104|    2016|     9|    10|    11|     32| 24410.0|     10|\n",
      "|     133|     130|    2016|    12|    15|    13|     25| 18157.0|      0|\n",
      "|     109|     140|    2016|     6|    19|    22|     33| 11466.0|     25|\n",
      "|     116|     146|    2016|     7|    23|    15|     57| 15670.0|      0|\n",
      "|     110|     128|    2016|    10|    29|    20|     55| 15124.0|      0|\n",
      "|     101|     123|    2016|     7|    10|    22|     52| 21758.0|     10|\n",
      "|     128|     137|    2016|     8|    30|    20|     38| 23290.0|      0|\n",
      "|     108|     114|    2016|    12|    19|    20|     49|  8928.5|      0|\n",
      "|     103|     142|    2016|    12|    31|    18|      5| 23526.0|     25|\n",
      "|     135|     123|    2016|     8|     3|    14|     52|  4836.0|     10|\n",
      "|     118|     141|    2016|     7|    27|    15|     19| 17778.0|      0|\n",
      "|     138|     145|    2016|     6|    22|    14|     56| 6190.28|     10|\n",
      "|     126|     123|    2016|    11|    25|    21|     39|  2195.0|      0|\n",
      "|     110|     107|    2016|     9|    26|    11|      6|   884.0|      0|\n",
      "|     118|     106|    2016|     6|    29|    11|     25|19536.28|     25|\n",
      "|     134|     101|    2016|     8|    18|     8|     28| 22083.0|      0|\n",
      "|     129|     132|    2016|    10|    12|    14|     28|  9070.0|      0|\n",
      "+--------+--------+--------+------+------+------+-------+--------+-------+\n",
      "only showing top 20 rows\n",
      "\n"
     ]
    }
   ],
   "source": [
    "mb_trans_data.show()"
   ]
  },
  {
   "cell_type": "code",
   "execution_count": 31,
   "metadata": {
    "collapsed": false
   },
   "outputs": [],
   "source": [
    "#Pre-processing data\n",
    "\n",
    "def no_days_in_month(month, year):\n",
    "    if month in day_months_31: \n",
    "        return 31\n",
    "    elif month in day_months_30:\n",
    "        return 30\n",
    "    else:\n",
    "        if calendar.isleap(year):\n",
    "            return 29\n",
    "        else:\n",
    "            return 28\n",
    "        \n",
    "def day_of_week_code(day_of_week):\n",
    "    if day_of_week < 4:\n",
    "        return 0\n",
    "    elif day_of_week > 4:\n",
    "        return 2\n",
    "    else:\n",
    "        return 1\n",
    "    \n",
    "def quarter_code(date, month):\n",
    "    month_31_days = [1,3,5,7,8,10,12]\n",
    "    month_30_days = [4,6,9,11]\n",
    "    if(month in month_31_days):\n",
    "        if(date in range(1,9)):\n",
    "            return 1\n",
    "        elif(date in range(9,16)):\n",
    "            return 2\n",
    "        elif(date in range(16,24)):\n",
    "            return 3\n",
    "        else:\n",
    "            return 4\n",
    "    elif(month in month_30_days):\n",
    "        if(date in range(1,9)):\n",
    "            return 1\n",
    "        elif(date in range(9,16)):\n",
    "            return 2\n",
    "        elif(date in range(16,23)):\n",
    "            return 3\n",
    "        else:\n",
    "            return 4\n",
    "    else: # February\n",
    "        return date / 4 \n",
    "\n",
    "def period_code(time):\n",
    "    hour = int(time[:-6])\n",
    "    if hour in range(0, 6):\n",
    "        return 0\n",
    "    elif hour in range(6, 12):\n",
    "        return 1\n",
    "    elif hour in range(12, 18):\n",
    "        return 2\n",
    "    else:\n",
    "        return 3\n",
    "\n",
    "quarter_code_udf = udf(quarter_code,IntegerType())\n",
    "date = udf(lambda y, m, d : datetime.datetime(y, m ,d), DateType())\n",
    "day_of_week = udf(lambda date : int(date.weekday()), IntegerType())\n",
    "day_of_week_code_udf = udf(day_of_week_code, IntegerType())\n",
    "quarter_code_udf = udf(quarter_code, IntegerType())"
   ]
  },
  {
   "cell_type": "code",
   "execution_count": 32,
   "metadata": {
    "collapsed": false
   },
   "outputs": [
    {
     "data": {
      "text/plain": [
       "3"
      ]
     },
     "execution_count": 32,
     "metadata": {},
     "output_type": "execute_result"
    }
   ],
   "source": [
    "quarter_code(19,12)"
   ]
  },
  {
   "cell_type": "code",
   "execution_count": 33,
   "metadata": {
    "collapsed": false
   },
   "outputs": [
    {
     "data": {
      "text/plain": [
       "int"
      ]
     },
     "execution_count": 33,
     "metadata": {},
     "output_type": "execute_result"
    }
   ],
   "source": [
    "type(mb_trans_data.select(\"ptn_dd\").collect()[0].ptn_dd)"
   ]
  },
  {
   "cell_type": "code",
   "execution_count": 34,
   "metadata": {
    "collapsed": false
   },
   "outputs": [
    {
     "name": "stdout",
     "output_type": "stream",
     "text": [
      "+--------+--------+--------+------+------+------+-------+--------+-------+------------+----------+-----------+----------------+\n",
      "|fm_ar_id|to_ar_id|ptn_yyyy|ptn_mm|ptn_dd|ptn_hr|ptn_min| tfr_amt|fee_amt|quarter_code|      date|day_of_week|day_of_week_code|\n",
      "+--------+--------+--------+------+------+------+-------+--------+-------+------------+----------+-----------+----------------+\n",
      "|     128|     140|    2016|     6|    19|    11|     22|  6201.0|      0|           3|2016-06-19|          6|               2|\n",
      "|     114|     150|    2016|     8|     4|    13|     37| 24021.0|      0|           1|2016-08-04|          3|               0|\n",
      "|     131|     120|    2016|     7|     6|    13|     31| 2361.28|      0|           1|2016-07-06|          2|               0|\n",
      "|     144|     104|    2016|     9|    10|    11|     32| 24410.0|     10|           2|2016-09-10|          5|               2|\n",
      "|     133|     130|    2016|    12|    15|    13|     25| 18157.0|      0|           2|2016-12-15|          3|               0|\n",
      "|     109|     140|    2016|     6|    19|    22|     33| 11466.0|     25|           3|2016-06-19|          6|               2|\n",
      "|     116|     146|    2016|     7|    23|    15|     57| 15670.0|      0|           3|2016-07-23|          5|               2|\n",
      "|     110|     128|    2016|    10|    29|    20|     55| 15124.0|      0|           4|2016-10-29|          5|               2|\n",
      "|     101|     123|    2016|     7|    10|    22|     52| 21758.0|     10|           2|2016-07-10|          6|               2|\n",
      "|     128|     137|    2016|     8|    30|    20|     38| 23290.0|      0|           4|2016-08-30|          1|               0|\n",
      "|     108|     114|    2016|    12|    19|    20|     49|  8928.5|      0|           3|2016-12-19|          0|               0|\n",
      "|     103|     142|    2016|    12|    31|    18|      5| 23526.0|     25|           4|2016-12-31|          5|               2|\n",
      "|     135|     123|    2016|     8|     3|    14|     52|  4836.0|     10|           1|2016-08-03|          2|               0|\n",
      "|     118|     141|    2016|     7|    27|    15|     19| 17778.0|      0|           4|2016-07-27|          2|               0|\n",
      "|     138|     145|    2016|     6|    22|    14|     56| 6190.28|     10|           3|2016-06-22|          2|               0|\n",
      "|     126|     123|    2016|    11|    25|    21|     39|  2195.0|      0|           4|2016-11-25|          4|               1|\n",
      "|     110|     107|    2016|     9|    26|    11|      6|   884.0|      0|           4|2016-09-26|          0|               0|\n",
      "|     118|     106|    2016|     6|    29|    11|     25|19536.28|     25|           4|2016-06-29|          2|               0|\n",
      "|     134|     101|    2016|     8|    18|     8|     28| 22083.0|      0|           3|2016-08-18|          3|               0|\n",
      "|     129|     132|    2016|    10|    12|    14|     28|  9070.0|      0|           2|2016-10-12|          2|               0|\n",
      "+--------+--------+--------+------+------+------+-------+--------+-------+------------+----------+-----------+----------------+\n",
      "only showing top 20 rows\n",
      "\n"
     ]
    }
   ],
   "source": [
    "mb_trans_data = mb_trans_data.withColumn(\"quarter_code\",quarter_code_udf(mb_trans_data['ptn_dd'],mb_trans_data['ptn_mm']))\n",
    "mb_trans_data = mb_trans_data.withColumn(\"date\", date(mb_trans_data[\"ptn_yyyy\"], mb_trans_data[\"ptn_mm\"], mb_trans_data[\"ptn_dd\"]))\n",
    "mb_trans_data = mb_trans_data.withColumn(\"day_of_week\", day_of_week(mb_trans_data[\"date\"]))\n",
    "mb_trans_data = mb_trans_data.withColumn(\"day_of_week_code\", day_of_week_code_udf(mb_trans_data[\"day_of_week\"]))\n",
    "mb_trans_data.show()"
   ]
  },
  {
   "cell_type": "code",
   "execution_count": 35,
   "metadata": {
    "collapsed": false
   },
   "outputs": [
    {
     "data": {
      "text/plain": [
       "3"
      ]
     },
     "execution_count": 35,
     "metadata": {},
     "output_type": "execute_result"
    }
   ],
   "source": [
    "quarter_code(16,5)"
   ]
  },
  {
   "cell_type": "code",
   "execution_count": 36,
   "metadata": {
    "collapsed": false
   },
   "outputs": [
    {
     "name": "stdout",
     "output_type": "stream",
     "text": [
      "+--------+------------+-----+\n",
      "|fm_ar_id|quarter_code|count|\n",
      "+--------+------------+-----+\n",
      "|     101|           1|    1|\n",
      "|     101|           2|    3|\n",
      "|     101|           4|    2|\n",
      "|     102|           1|    1|\n",
      "|     102|           2|    3|\n",
      "|     102|           3|    1|\n",
      "|     102|           4|    4|\n",
      "|     103|           2|    1|\n",
      "|     103|           4|    2|\n",
      "|     104|           2|    1|\n",
      "|     104|           3|    2|\n",
      "|     105|           1|    1|\n",
      "|     105|           4|    3|\n",
      "|     106|           1|    1|\n",
      "|     106|           4|    2|\n",
      "|     107|           1|    1|\n",
      "|     107|           4|    5|\n",
      "|     108|           1|    4|\n",
      "|     108|           2|    2|\n",
      "|     108|           3|    3|\n",
      "+--------+------------+-----+\n",
      "only showing top 20 rows\n",
      "\n"
     ]
    }
   ],
   "source": [
    "# mb_trans_data.select('fm_ar_id').groupby('fm_ar_id').count().show()\n",
    "mb_trans_data.select('fm_ar_id',mb_trans_data['quarter_code']).groupby(['fm_ar_id','quarter_code']).count().sort(['fm_ar_id','quarter_code']).show()\n",
    "# mb_trans_data.groupby(mb_trans_data['quarter_code']).count().show()\n",
    "# F.count(mb_trans_data['quarter_code']==1).alias(\"noMbTransferOutDuringQ1\")"
   ]
  },
  {
   "cell_type": "code",
   "execution_count": 37,
   "metadata": {
    "collapsed": false
   },
   "outputs": [
    {
     "name": "stdout",
     "output_type": "stream",
     "text": [
      "+-----+-----------------+-----------------+-----------------+-----------------+\n",
      "|ar_id|noMbTransferOutQ1|noMbTransferOutQ2|noMbTransferOutQ3|noMbTransferOutQ4|\n",
      "+-----+-----------------+-----------------+-----------------+-----------------+\n",
      "|  101|                1|                3|                0|                2|\n",
      "|  102|                1|                3|                1|                4|\n",
      "|  103|                0|                1|                0|                2|\n",
      "|  104|                0|                1|                2|                0|\n",
      "|  105|                1|                0|                0|                3|\n",
      "|  106|                1|                0|                0|                2|\n",
      "|  107|                1|                0|                0|                5|\n",
      "|  108|                4|                2|                3|                1|\n",
      "|  109|                0|                1|                1|                3|\n",
      "|  110|                1|                0|                1|                3|\n",
      "|  112|                3|                1|                0|                2|\n",
      "|  113|                1|                2|                1|                0|\n",
      "|  114|                1|                1|                0|                1|\n",
      "|  115|                0|                1|                0|                2|\n",
      "|  116|                1|                0|                3|                2|\n",
      "|  117|                4|                0|                1|                1|\n",
      "|  118|                1|                1|                0|                5|\n",
      "|  119|                0|                1|                3|                4|\n",
      "|  120|                1|                0|                2|                3|\n",
      "|  121|                1|                0|                1|                3|\n",
      "+-----+-----------------+-----------------+-----------------+-----------------+\n",
      "only showing top 20 rows\n",
      "\n"
     ]
    }
   ],
   "source": [
    "# mb_trans_data.select('fm_ar_id','quarter_code').groupby(['fm_ar_id','quarter_code']).agg(F.count(mb_trans_data['quarter_code']==1).alias(\"noMbTransferOutDuringQ1\")).sort('fm_ar_id').show()\n",
    "mb_trans_data.select('fm_ar_id','to_ar_id','quarter_code').distinct()\n",
    "mb_trans_data.stat.crosstab(\"fm_ar_id\",\"quarter_code\").sort('fm_ar_id_quarter_code')\\\n",
    ".toDF('ar_id','noMbTransferOutQ1','noMbTransferOutQ2','noMbTransferOutQ3','noMbTransferOutQ4').show()"
   ]
  },
  {
   "cell_type": "markdown",
   "metadata": {},
   "source": [
    "## Features Extraction"
   ]
  },
  {
   "cell_type": "code",
   "execution_count": 38,
   "metadata": {
    "collapsed": false
   },
   "outputs": [],
   "source": [
    "#Feature Extraction\n",
    "def getMbFrequency(columnName,newColumnName):\n",
    "    freqIn = mb_trans_data.select(columnName).groupby(columnName).count()\n",
    "    if((columnName == \"fm_ar_id\") | (columnName == \"to_ar_id\")):\n",
    "        freqIn = freqIn.withColumnRenamed(columnName,\"ar_id\")\n",
    "    freqIn = freqIn.withColumnRenamed(\"count\",newColumnName)\n",
    "    return freqIn"
   ]
  },
  {
   "cell_type": "code",
   "execution_count": 74,
   "metadata": {
    "collapsed": true
   },
   "outputs": [],
   "source": [
    "#Feature Extraction V2\n",
    "def getMbFrequencyPerQuarter(columnName,newColumnName):\n",
    "    freqIn = mb_trans_data.stat.crosstab(columnName,\"quarter_code\")\\\n",
    "    .toDF(columnName,newColumnName+'Q1',newColumnName+'Q2',newColumnName+'Q3',newColumnName+'Q4')\n",
    "    if((columnName == \"fm_ar_id\") | (columnName == \"to_ar_id\")):\n",
    "        freqIn = freqIn.withColumnRenamed(columnName,\"ar_id\")\n",
    "    return freqIn\n",
    "\n",
    "def getMbFrequencyUniquePerQuarter(columnName,newColumnName):\n",
    "    mb_trans_data_unique = mb_trans_data.select('fm_ar_id','to_ar_id','quarter_code').distinct()\n",
    "    freqIn = mb_trans_data_unique.stat.crosstab(columnName,\"quarter_code\")\\\n",
    "    .toDF(columnName,newColumnName+'Q1',newColumnName+'Q2',newColumnName+'Q3',newColumnName+'Q4')\n",
    "    if((columnName == \"fm_ar_id\") | (columnName == \"to_ar_id\")):\n",
    "        freqIn = freqIn.withColumnRenamed(columnName,\"ar_id\")\n",
    "    return freqIn\n",
    "\n",
    "#get Ratio below\n",
    "\n",
    "def getMbFeeFrequencyPerQuarter(columnName,newColumnName):\n",
    "    noMonth = mb_trans_data.select(\"ptn_yyyy\",\"ptn_mm\").distinct().count()\n",
    "    mb_fee = mb_trans_data.withColumn(\"pay_fee\",mb_trans_data[\"fee_amt\"] != 0).select(\"fm_ar_id\",\"fee_amt\",\"pay_fee\")\n",
    "    freqFee = mb_fee.stat.crosstab(columnName,\"pay_fee\")\\\n",
    "        .toDF(columnName,newColumnName+'Free',newColumnName+'NotFree')\n",
    "    freqFee = freqFee.withColumn(newColumnName+'FreePerMonth',freqFee[newColumnName+'Free']/noMonth)\n",
    "    freqFee = freqFee.withColumn(newColumnName+'NotFreePerMonth',freqFee[newColumnName+'NotFree']/noMonth)\n",
    "    freqFee = freqFee.select(columnName,newColumnName+'FreePerMonth',newColumnName+'NotFreePerMonth')\n",
    "    if((columnName == \"fm_ar_id\") | (columnName == \"to_ar_id\")):\n",
    "        freqFee = freqFee.withColumnRenamed(columnName,\"ar_id\")\n",
    "    return freqFee\n",
    "\n",
    "#Doing\n",
    "def getAvgTransferAmountPerQuarter(columnName,newColumnName):\n",
    "    mb_trans_data.groupby(\"ar_id\").agg({\"tfr_amt\" : \"sum\"}).withColumnRenamed(\"sum(tfr_amt)\", \"transferAmount\")\n",
    "    if((columnName == \"fm_ar_id\") | (columnName == \"to_ar_id\")):\n",
    "        freqIn = freqIn.withColumnRenamed(columnName,\"ar_id\")\n",
    "        "
   ]
  },
  {
   "cell_type": "code",
   "execution_count": 40,
   "metadata": {
    "collapsed": false
   },
   "outputs": [
    {
     "name": "stdout",
     "output_type": "stream",
     "text": [
      "+--------+------------+--------------+\n",
      "|fm_ar_id|quarter_code|transferAmount|\n",
      "+--------+------------+--------------+\n",
      "|     101|           1|       10779.0|\n",
      "|     101|           2|       55389.0|\n",
      "|     101|           4|       21351.0|\n",
      "|     102|           1|        4610.0|\n",
      "|     102|           2|       42225.0|\n",
      "|     102|           3|       15650.0|\n",
      "|     102|           4|       53230.0|\n",
      "|     103|           2|       17396.0|\n",
      "|     103|           4|       25857.0|\n",
      "|     104|           2|        6114.0|\n",
      "|     104|           3|        3488.0|\n",
      "|     105|           1|       15854.0|\n",
      "|     105|           4|       25937.0|\n",
      "|     106|           1|       23069.0|\n",
      "|     106|           4|       17855.0|\n",
      "|     107|           1|       15521.0|\n",
      "|     107|           4|       37583.0|\n",
      "|     108|           1|       39724.0|\n",
      "|     108|           2|       32657.0|\n",
      "|     108|           3|       57412.5|\n",
      "+--------+------------+--------------+\n",
      "only showing top 20 rows\n",
      "\n"
     ]
    }
   ],
   "source": [
    "mb_trans_data.groupby([\"fm_ar_id\",\"quarter_code\"]).agg({\"tfr_amt\" : \"sum\"}).sort(['fm_ar_id','quarter_code']).withColumnRenamed(\"sum(tfr_amt)\", \"transferAmount\").show()"
   ]
  },
  {
   "cell_type": "code",
   "execution_count": 75,
   "metadata": {
    "collapsed": false
   },
   "outputs": [
    {
     "name": "stdout",
     "output_type": "stream",
     "text": [
      "root\n",
      " |-- ar_id: integer (nullable = true)\n",
      " |-- noMbTransferOutQ1: long (nullable = true)\n",
      " |-- noMbTransferOutQ2: long (nullable = true)\n",
      " |-- noMbTransferOutQ3: long (nullable = true)\n",
      " |-- noMbTransferOutQ4: long (nullable = true)\n",
      " |-- noMbTransferInQ1: long (nullable = true)\n",
      " |-- noMbTransferInQ2: long (nullable = true)\n",
      " |-- noMbTransferInQ3: long (nullable = true)\n",
      " |-- noMbTransferInQ4: long (nullable = true)\n",
      " |-- noMbTransferOutUniqueQ1: long (nullable = true)\n",
      " |-- noMbTransferOutUniqueQ2: long (nullable = true)\n",
      " |-- noMbTransferOutUniqueQ3: long (nullable = true)\n",
      " |-- noMbTransferOutUniqueQ4: long (nullable = true)\n",
      " |-- noMbTransferInUniqueQ1: long (nullable = true)\n",
      " |-- noMbTransferInUniqueQ2: long (nullable = true)\n",
      " |-- noMbTransferInUniqueQ3: long (nullable = true)\n",
      " |-- noMbTransferInUniqueQ4: long (nullable = true)\n",
      " |-- ratioTransferOutQ1: double (nullable = true)\n",
      " |-- ratioTransferInQ1: double (nullable = true)\n",
      " |-- ratioTransferOutQ2: double (nullable = true)\n",
      " |-- ratioTransferInQ2: double (nullable = true)\n",
      " |-- ratioTransferOutQ3: double (nullable = true)\n",
      " |-- ratioTransferInQ3: double (nullable = true)\n",
      " |-- ratioTransferOutQ4: double (nullable = true)\n",
      " |-- ratioTransferInQ4: double (nullable = true)\n",
      " |-- noMbFeeFreePerMonth: double (nullable = true)\n",
      " |-- noMbFeeNotFreePerMonth: double (nullable = true)\n",
      "\n"
     ]
    }
   ],
   "source": [
    "df = mb_trans_data.select(\"fm_ar_id\").distinct().withColumnRenamed(\"fm_ar_id\",\"ar_id\")\n",
    "train_data = df.join(getMbFrequencyPerQuarter(\"fm_ar_id\",\"noMbTransferOut\"),\"ar_id\",\"left_outer\")\n",
    "train_data = train_data.join(getMbFrequencyPerQuarter(\"to_ar_id\",\"noMbTransferIn\"),\"ar_id\",\"left_outer\")\n",
    "train_data = train_data.join(getMbFrequencyUniquePerQuarter(\"fm_ar_id\",\"noMbTransferOutUnique\"),\"ar_id\",\"left_outer\")\n",
    "train_data = train_data.join(getMbFrequencyUniquePerQuarter(\"to_ar_id\",\"noMbTransferInUnique\"),\"ar_id\",\"left_outer\")\n",
    "#Calculate Ratio\n",
    "for i in range(1,5):\n",
    "    train_data = train_data.withColumn(\"ratioTransferOutQ\"+str(i),train_data[\"noMbTransferOutUniqueQ\"+str(i)]/train_data[\"noMbTransferOutQ\"+str(i)])\n",
    "    train_data = train_data.withColumn(\"ratioTransferInQ\"+str(i),train_data[\"noMbTransferInUniqueQ\"+str(i)]/train_data[\"noMbTransferInQ\"+str(i)])\n",
    "train_data = train_data.join(getMbFeeFrequencyPerQuarter(\"fm_ar_id\",\"noMbFee\"),\"ar_id\",\"left_outer\")\n",
    "train_data.printSchema()"
   ]
  },
  {
   "cell_type": "code",
   "execution_count": 72,
   "metadata": {
    "collapsed": false
   },
   "outputs": [
    {
     "name": "stdout",
     "output_type": "stream",
     "text": [
      "+-----+-----------+--------------+-------------------+\n",
      "|ar_id|noMbFeeFree|noMbFeeNotFree|noMbFeeFreePerMonth|\n",
      "+-----+-----------+--------------+-------------------+\n",
      "|  148|          5|             2| 0.7142857142857143|\n",
      "|  137|          4|             0| 0.5714285714285714|\n",
      "|  133|          6|             4| 0.8571428571428571|\n",
      "|  108|          6|             4| 0.8571428571428571|\n",
      "|  101|          2|             4| 0.2857142857142857|\n",
      "|  126|          4|             1| 0.5714285714285714|\n",
      "|  115|          3|             0|0.42857142857142855|\n",
      "|  103|          1|             2|0.14285714285714285|\n",
      "|  128|          7|             4|                1.0|\n",
      "|  122|          1|             1|0.14285714285714285|\n",
      "|  140|          2|             1| 0.2857142857142857|\n",
      "|  132|          4|             3| 0.5714285714285714|\n",
      "|  146|          3|             2|0.42857142857142855|\n",
      "|  142|          4|             3| 0.5714285714285714|\n",
      "|  139|          5|             2| 0.7142857142857143|\n",
      "|  120|          4|             2| 0.5714285714285714|\n",
      "|  117|          5|             1| 0.7142857142857143|\n",
      "|  112|          4|             2| 0.5714285714285714|\n",
      "|  127|          3|             1|0.42857142857142855|\n",
      "|  107|          5|             1| 0.7142857142857143|\n",
      "+-----+-----------+--------------+-------------------+\n",
      "only showing top 20 rows\n",
      "\n"
     ]
    }
   ],
   "source": [
    "train_data.select(\"ar_id\",\"noMbFeeFree\",\"noMbFeeNotFree\")\\\n",
    ".withColumn(\"noMbFeeFreePerMonth\",train_data[\"noMbFeeFree\"]/7).show()"
   ]
  },
  {
   "cell_type": "code",
   "execution_count": 73,
   "metadata": {
    "collapsed": false
   },
   "outputs": [
    {
     "data": {
      "text/plain": [
       "7"
      ]
     },
     "execution_count": 73,
     "metadata": {},
     "output_type": "execute_result"
    }
   ],
   "source": [
    "mb_trans_data.select(\"ptn_yyyy\",\"ptn_mm\").distinct().count()"
   ]
  }
 ],
 "metadata": {
  "kernelspec": {
   "display_name": "Python 3",
   "language": "python",
   "name": "python3"
  },
  "language_info": {
   "codemirror_mode": {
    "name": "ipython",
    "version": 3
   },
   "file_extension": ".py",
   "mimetype": "text/x-python",
   "name": "python",
   "nbconvert_exporter": "python",
   "pygments_lexer": "ipython3",
   "version": "3.6.0"
  }
 },
 "nbformat": 4,
 "nbformat_minor": 2
}
