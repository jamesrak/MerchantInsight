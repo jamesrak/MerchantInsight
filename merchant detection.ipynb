{
 "cells": [
  {
   "cell_type": "code",
   "execution_count": 98,
   "metadata": {
    "collapsed": false
   },
   "outputs": [],
   "source": [
    "from pyspark import SparkContext\n",
    "from pyspark.sql import SparkSession\n",
    "from pyspark.conf import SparkConf\n",
    "from pyspark.ml import Pipeline, PipelineModel\n",
    "from pyspark.ml.feature import StringIndexer, IndexToString, VectorAssembler\n",
    "from pyspark.ml.feature import OneHotEncoder, StringIndexer\n",
    "from pyspark.sql.types import IntegerType\n",
    "from pyspark.sql.functions import udf\n",
    "from pyspark.sql import functions as F"
   ]
  },
  {
   "cell_type": "code",
   "execution_count": 4,
   "metadata": {
    "collapsed": false
   },
   "outputs": [
    {
     "name": "stdout",
     "output_type": "stream",
     "text": [
      "<pyspark.context.SparkContext object at 0x000002381DFD1668>\n"
     ]
    }
   ],
   "source": [
    "sc = SparkContext.getOrCreate()\n",
    "print(sc)"
   ]
  },
  {
   "cell_type": "code",
   "execution_count": null,
   "metadata": {
    "collapsed": true
   },
   "outputs": [],
   "source": [
    "# join \n",
    "# ip <-> ar <-> mb\n",
    "#           <-> dept\n",
    "\n",
    "# ip <-> ar : \"ip_id\"\n",
    "# ip <-> cc_cst : \"x\"\n",
    "# cc_cst <-> cc_visa : \"x\"\n",
    "# ar <-> mb : \"src_ar_id\"\n",
    "# ar <-> dept : \"ar_id\"\n",
    "\n",
    "# DerivedFeature\n",
    "# [PerWeek & PerMonth]\n",
    "# noTransferInUnique, noTransferOutUnique, noTransferIn, noTransferOut, ratioTransferIn, ratioTransferOut\n",
    "# avgTransferInAmount, avgTransferOutAmount, avgTransferAmount\n",
    "# noFeeAmountGroupBy(0,10,25,35)\n",
    "# noTransferInPeriod(morning,afternoon,evening,night :: 6hr)\n",
    "# noTransferOutPeriod(morning,afternoon,evening,night :: 6hr)\n",
    "# noTransferInPerDay(Mon-Thu, Fri, Sat-Sun [avg]) <-- PerMonth\n",
    "# noTransferOutPerDay(Mon-Thu, Fri, Sat-Sun [avg]) <-- PerMonth\n",
    "# avgTransferInHoliday, avgTransferOutHoliday\n",
    "\n",
    "\n",
    "# Deposit\n",
    "# [PerWeek & PerMonth]\n",
    "# noBranchVisit,noBranchVisitUnique,ratioBranchVisit\n",
    "# avgTransferInAmount, avgTransferOutAmount, avgTransferAmount\n",
    "# noDepositAmount, noWithdrawAmount\n",
    "# avgDepositAmount, avgWithdrawAmount\n",
    "# noWithdrawPeriod(morning,afternoon,evening,night :: 6hr)\n",
    "# noDepositPeriod(morning,afternoon,evening,night :: 6hr)\n",
    "# noDepositPerDay(Mon-Thu, Fri, Sat-Sun [avg]) <-- PerMonth\n",
    "# noWithdrawPerDay(Mon-Thu, Fri, Sat-Sun [avg]) <-- PerMonth\n",
    "# noTransferInUnique, noTransferOutUnique, noTransferIn, noTransferOut, ratioTransferIn, ratioTransferOut\n",
    "# noTransferInPerDay(Mon-Thu, Fri, Sat-Sun [avg]) <-- PerMonth\n",
    "# noTransferOutPerDay(Mon-Thu, Fri, Sat-Sun [avg]) <-- PerMonth\n",
    "# ??Balance??\n",
    "# ??CBS Sub Operation Code??\n",
    "# ahrzd_usr_id <-- [KMP, EDC, ATM]\n",
    "\n",
    "# Credit\n",
    "\n",
    "\n",
    "# Approach\n",
    "# 1 Detech ลูกน้องโดยดูจำนวนเงินที่รับมากที่สุดแล้วเช็ค\n",
    "\n",
    "# Visualize\n",
    "# Location\n",
    "\n",
    "# feature = [\"vc_ip.ip_id\"]\n",
    "# category = [\"vc_ip.ip_tp_cd\",\"vc_ip.mar_st_cd\",\"vc_ip.ctf_tp_cd\",\"vc_ip.ocp_cd\",\"vc_ip.idv_incm_seg_cd\"]\n",
    "# filteredFeature = [\"vc_ip.prvn_f\",\"vc_ip.ip_st_cd\",\"vc_ip.death_f\"]"
   ]
  },
  {
   "cell_type": "code",
   "execution_count": 6,
   "metadata": {
    "collapsed": false
   },
   "outputs": [
    {
     "name": "stdout",
     "output_type": "stream",
     "text": [
      "<pyspark.sql.session.SparkSession object at 0x000002381F7E8198>\n"
     ]
    }
   ],
   "source": [
    "spark = (SparkSession\n",
    "         .builder\n",
    "         .appName(\"MerchantInsight\")\n",
    "         .config(\"spark.sql.warehouse.dir\", \"/opt/jupyter_workspace/spark-warehouse\")\n",
    "         .getOrCreate())\n",
    "print (spark)"
   ]
  },
  {
   "cell_type": "code",
   "execution_count": 30,
   "metadata": {
    "collapsed": false
   },
   "outputs": [],
   "source": [
    "mb_trans_data =(spark\n",
    "      .read\n",
    "      .option(\"header\", \"true\")\n",
    "      .option(\"inferSchema\",\"true\")\n",
    "      .csv('dataset/mock-transaction.csv'))"
   ]
  },
  {
   "cell_type": "code",
   "execution_count": 31,
   "metadata": {
    "collapsed": false
   },
   "outputs": [
    {
     "name": "stdout",
     "output_type": "stream",
     "text": [
      "+--------+--------+--------+------+------+------+-------+\n",
      "|fm_ar_id|to_ar_id|ptn_yyyy|ptn_mm|ptn_dd|ptn_hr|ptn_min|\n",
      "+--------+--------+--------+------+------+------+-------+\n",
      "|     128|     140|    2016|     7|     6|    17|      1|\n",
      "|     114|     150|    2016|     7|     6|    17|      1|\n",
      "|     131|     120|    2016|     7|     6|    17|      1|\n",
      "|     144|     104|    2016|     7|     6|    17|      1|\n",
      "|     133|     130|    2016|     7|     6|    17|      1|\n",
      "|     109|     140|    2016|     7|     6|    17|      1|\n",
      "|     116|     146|    2016|     7|     6|    17|      1|\n",
      "|     110|     128|    2016|     7|     6|    17|      1|\n",
      "|     101|     123|    2016|     7|     6|    17|      1|\n",
      "|     128|     137|    2016|     7|     6|    17|      1|\n",
      "|     108|     114|    2016|     7|     6|    17|      1|\n",
      "|     103|     142|    2016|     7|     6|    17|      1|\n",
      "|     135|     123|    2016|     7|     6|    17|      1|\n",
      "|     118|     141|    2016|     7|     6|    17|      1|\n",
      "|     138|     145|    2016|     7|     6|    17|      1|\n",
      "|     126|     123|    2016|     7|     6|    17|      5|\n",
      "|     110|     107|    2016|     7|     6|    17|      5|\n",
      "|     118|     106|    2016|     7|     6|    17|      5|\n",
      "|     134|     101|    2016|     7|     6|    17|      5|\n",
      "|     129|     132|    2016|     7|     6|    17|      5|\n",
      "+--------+--------+--------+------+------+------+-------+\n",
      "only showing top 20 rows\n",
      "\n"
     ]
    }
   ],
   "source": [
    "mb_trans_data.show()"
   ]
  },
  {
   "cell_type": "code",
   "execution_count": 81,
   "metadata": {
    "collapsed": false
   },
   "outputs": [],
   "source": [
    "#Pre-processing data\n",
    "def getQuarter(dd,mm):\n",
    "    m31 = [1,3,5,7,8,10,12]\n",
    "    m30 = [4,6,9,11]\n",
    "    if(mm in m31):\n",
    "        if(dd in range(1,9)):\n",
    "            return 1\n",
    "        elif(dd in range(9,16)):\n",
    "            return 2\n",
    "        elif(dd in range(16,24)):\n",
    "            return 3\n",
    "        else:\n",
    "            return 4\n",
    "    elif(mm in m30):\n",
    "        if(dd in range(1,9)):\n",
    "            return 1\n",
    "        elif(dd in range(9,16)):\n",
    "            return 2\n",
    "        elif(dd in range(16,23)):\n",
    "            return 3\n",
    "        else:\n",
    "            return 4\n",
    "    else:\n",
    "        return dd/4\n",
    "\n",
    "getQuarterUdf = udf(getQuarter,IntegerType()) "
   ]
  },
  {
   "cell_type": "code",
   "execution_count": 110,
   "metadata": {
    "collapsed": false
   },
   "outputs": [
    {
     "name": "stdout",
     "output_type": "stream",
     "text": [
      "+--------+--------+--------+------+------+------+-------+-------+\n",
      "|fm_ar_id|to_ar_id|ptn_yyyy|ptn_mm|ptn_dd|ptn_hr|ptn_min|quarter|\n",
      "+--------+--------+--------+------+------+------+-------+-------+\n",
      "|     128|     140|    2016|     7|     6|    17|      1|      1|\n",
      "|     114|     150|    2016|     7|     6|    17|      1|      1|\n",
      "|     131|     120|    2016|     7|     6|    17|      1|      1|\n",
      "|     144|     104|    2016|     7|     6|    17|      1|      1|\n",
      "|     133|     130|    2016|     7|     6|    17|      1|      1|\n",
      "|     109|     140|    2016|     7|     6|    17|      1|      1|\n",
      "|     116|     146|    2016|     7|     6|    17|      1|      1|\n",
      "|     110|     128|    2016|     7|     6|    17|      1|      1|\n",
      "|     101|     123|    2016|     7|     6|    17|      1|      1|\n",
      "|     128|     137|    2016|     7|     6|    17|      1|      1|\n",
      "|     108|     114|    2016|     7|     6|    17|      1|      1|\n",
      "|     103|     142|    2016|     7|     6|    17|      1|      1|\n",
      "|     135|     123|    2016|     7|     6|    17|      1|      1|\n",
      "|     118|     141|    2016|     7|     6|    17|      1|      1|\n",
      "|     138|     145|    2016|     7|     6|    17|      1|      1|\n",
      "|     126|     123|    2016|     7|     6|    17|      5|      1|\n",
      "|     110|     107|    2016|     7|     6|    17|      5|      1|\n",
      "|     118|     106|    2016|     7|     6|    17|      5|      1|\n",
      "|     134|     101|    2016|     7|     6|    17|      5|      1|\n",
      "|     129|     132|    2016|     7|     6|    17|      5|      1|\n",
      "+--------+--------+--------+------+------+------+-------+-------+\n",
      "only showing top 20 rows\n",
      "\n"
     ]
    }
   ],
   "source": [
    "mb_trans_data = mb_trans_data.withColumn(\"quarter\",getQuarterUdf(mb_trans_data['ptn_dd'],mb_trans_data['ptn_mm']))\n",
    "mb_trans_data.show()"
   ]
  },
  {
   "cell_type": "code",
   "execution_count": 91,
   "metadata": {
    "collapsed": false
   },
   "outputs": [
    {
     "data": {
      "text/plain": [
       "3"
      ]
     },
     "execution_count": 91,
     "metadata": {},
     "output_type": "execute_result"
    }
   ],
   "source": [
    "getQuarter(16,5)"
   ]
  },
  {
   "cell_type": "code",
   "execution_count": 114,
   "metadata": {
    "collapsed": false
   },
   "outputs": [
    {
     "name": "stdout",
     "output_type": "stream",
     "text": [
      "+--------+-------+-----+\n",
      "|fm_ar_id|quarter|count|\n",
      "+--------+-------+-----+\n",
      "|     108|   null|   10|\n",
      "|     118|   null|    7|\n",
      "|     105|   null|    4|\n",
      "|     144|      1|    9|\n",
      "|     139|   null|    7|\n",
      "|     109|      1|    5|\n",
      "|     117|   null|    6|\n",
      "|     125|      1|    3|\n",
      "|     142|   null|    7|\n",
      "|     120|   null|    6|\n",
      "|     121|   null|    5|\n",
      "|     112|   null|    6|\n",
      "|     109|   null|    5|\n",
      "|     129|   null|   11|\n",
      "|     126|      1|    5|\n",
      "|     137|      1|    4|\n",
      "|     127|      1|    4|\n",
      "|     134|   null|   12|\n",
      "|    null|   null|  299|\n",
      "|     136|   null|    6|\n",
      "+--------+-------+-----+\n",
      "only showing top 20 rows\n",
      "\n"
     ]
    }
   ],
   "source": [
    "# mb_trans_data.select('fm_ar_id').groupby('fm_ar_id').count().show()\n",
    "mb_trans_data.select('fm_ar_id',mb_trans_data['quarter']).rollup('fm_ar_id',mb_trans_data['quarter']).count().show()\n",
    "# F.count(mb_trans_data['fm_ar_id']==148).alias(\"count148\")"
   ]
  },
  {
   "cell_type": "markdown",
   "metadata": {},
   "source": [
    "## Features Extraction"
   ]
  },
  {
   "cell_type": "code",
   "execution_count": 47,
   "metadata": {
    "collapsed": false
   },
   "outputs": [],
   "source": [
    "#Feature Extraction\n",
    "def getMbFrequency(columnName,newColumnName):\n",
    "    freqIn = mb_trans_data.select(columnName).groupby(columnName).count()\n",
    "    if((columnName == \"fm_ar_id\") | (columnName == \"to_ar_id\")):\n",
    "        freqIn = freqIn.withColumnRenamed(columnName,\"ar_id\")\n",
    "    freqIn = freqIn.withColumnRenamed(\"count\",newColumnName)\n",
    "    return freqIn"
   ]
  },
  {
   "cell_type": "code",
   "execution_count": 92,
   "metadata": {
    "collapsed": false
   },
   "outputs": [
    {
     "name": "stdout",
     "output_type": "stream",
     "text": [
      "+-----+---------------+---------------+\n",
      "|ar_id|noMbTransferOut| noMbTransferIn|\n",
      "+-----+---------------+---------------+\n",
      "|  148|              7|              3|\n",
      "|  137|              4|              7|\n",
      "|  133|             10|              6|\n",
      "|  108|             10|              6|\n",
      "|  101|              6|              4|\n",
      "|  126|              5|              7|\n",
      "|  115|              3|              5|\n",
      "|  103|              3|              6|\n",
      "|  128|             11|              5|\n",
      "|  122|              2|              9|\n",
      "|  140|              3|              6|\n",
      "|  132|              7|              5|\n",
      "|  146|              5|              6|\n",
      "|  142|              7|              4|\n",
      "|  139|              7|              4|\n",
      "|  120|              6|              5|\n",
      "|  117|              6|              6|\n",
      "|  112|              6|              8|\n",
      "|  127|              4|              5|\n",
      "|  107|              6|             11|\n",
      "+-----+---------------+---------------+\n",
      "only showing top 20 rows\n",
      "\n"
     ]
    }
   ],
   "source": [
    "df = mb_trans_data.select(\"fm_ar_id\").distinct().withColumnRenamed(\"fm_ar_id\",\"ar_id\")\n",
    "train_data = df.join(getMbFrequency(\"fm_ar_id\",\"noMbTransferOut\"),\"ar_id\",\"left_outer\")\n",
    "train_data = train_data.join(getMbFrequency(\"to_ar_id\",\" noMbTransferIn\"),\"ar_id\",\"left_outer\")\n",
    "train_data.show()"
   ]
  }
 ],
 "metadata": {
  "kernelspec": {
   "display_name": "Python 3",
   "language": "python",
   "name": "python3"
  },
  "language_info": {
   "codemirror_mode": {
    "name": "ipython",
    "version": 3
   },
   "file_extension": ".py",
   "mimetype": "text/x-python",
   "name": "python",
   "nbconvert_exporter": "python",
   "pygments_lexer": "ipython3",
   "version": "3.6.0"
  }
 },
 "nbformat": 4,
 "nbformat_minor": 2
}
