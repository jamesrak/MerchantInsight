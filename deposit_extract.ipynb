{
 "cells": [
  {
   "cell_type": "code",
   "execution_count": 87,
   "metadata": {},
   "outputs": [
    {
     "name": "stdout",
     "output_type": "stream",
     "text": [
      "<pyspark.context.SparkContext object at 0x102a1b470>\n"
     ]
    }
   ],
   "source": [
    "from pyspark import SparkContext, SparkConf\n",
    "from pyspark.sql import SparkSession\n",
    "from pyspark.sql.functions import udf\n",
    "from pyspark.sql.types import IntegerType, FloatType, DateType\n",
    "import datetime, time, calendar\n",
    "\n",
    "print(sc)"
   ]
  },
  {
   "cell_type": "code",
   "execution_count": 88,
   "metadata": {},
   "outputs": [
    {
     "name": "stdout",
     "output_type": "stream",
     "text": [
      "<pyspark.sql.session.SparkSession object at 0x105135e48>\n"
     ]
    }
   ],
   "source": [
    "spark = (SparkSession\n",
    "         .builder\n",
    "         .appName(\"Catch you merchant\")\n",
    "         .config(\"spark.sql.warehouse.dir\", \"/opt/jupyter_workspace/spark-warehouse\")\n",
    "         .getOrCreate())\n",
    "print(spark)"
   ]
  },
  {
   "cell_type": "code",
   "execution_count": 136,
   "metadata": {
    "collapsed": true
   },
   "outputs": [],
   "source": [
    "workspace = \"/Users/AUM/Desktop/MerchantInsight/mock_data/\"\n",
    "\n",
    "df = (spark\n",
    "     .read\n",
    "     .option(\"header\", \"true\")\n",
    "     .option(\"inferSchema\", \"true\")\n",
    "     .csv(workspace + \"deposit_mock.csv\"))"
   ]
  },
  {
   "cell_type": "code",
   "execution_count": 137,
   "metadata": {
    "scrolled": false
   },
   "outputs": [
    {
     "name": "stdout",
     "output_type": "stream",
     "text": [
      "+-----+-----------+-------+---------+---------+------+--------+------+------+--------+\n",
      "|ar_id|fm_to_ar_id|txn_amt|svc_br_no|opm_tp_cd|txn_cd|ptn_yyyy|ptn_mm|ptn_dd|  txn_tm|\n",
      "+-----+-----------+-------+---------+---------+------+--------+------+------+--------+\n",
      "|  11a|        13c|    100|      900|       CR|     0|    2016|     8|     3| 9:58:18|\n",
      "|  11a|        13c|1000000|      900|       DR|     0|    2016|     8|     5|10:58:18|\n",
      "|  11a|        13c|  10000|      900|       DR|     0|    2016|     9|    10|11:58:18|\n",
      "|  11a|        13c|  10000|      900|       DR|     0|    2016|     9|    10|11:58:18|\n",
      "|  11a|        14d| 200000|      901|       DR|     0|    2016|    10|     3|12:58:18|\n",
      "|  12b|        15c|  30000|      902|       DR|     0|    2016|    12|     3|13:58:18|\n",
      "|  12b|        16d| 200000|      903|       CR|     0|    2016|     8|    30|14:58:18|\n",
      "|  12b|        16d|   5000|      904|       CR|     0|    2016|     8|    13|15:58:18|\n",
      "|  13c|        11b|     10|      904|       CR|     0|    2016|     2|     3|16:58:18|\n",
      "+-----+-----------+-------+---------+---------+------+--------+------+------+--------+\n",
      "\n"
     ]
    }
   ],
   "source": [
    "df = df.dropna()\n",
    "\n",
    "df.show()"
   ]
  },
  {
   "cell_type": "code",
   "execution_count": 138,
   "metadata": {
    "collapsed": true
   },
   "outputs": [],
   "source": [
    "# define useful variable\n",
    "\n",
    "number_of_months = 10\n",
    "transfer_code = 0\n",
    "deposit_code = 1\n",
    "withdraw_code = 2"
   ]
  },
  {
   "cell_type": "code",
   "execution_count": 148,
   "metadata": {
    "scrolled": true
   },
   "outputs": [
    {
     "name": "stdout",
     "output_type": "stream",
     "text": [
      "+-----+-----------+-------+---------+---------+------+--------+------+------+--------+----------+-----------+-----------+-------------+----------------+------------+------------+-----------+\n",
      "|ar_id|fm_to_ar_id|txn_amt|svc_br_no|opm_tp_cd|txn_cd|ptn_yyyy|ptn_mm|ptn_dd|  txn_tm|      date|day_of_week|hour_of_day|days_in_month|day_of_week_code|day_in_month|quarter_code|period_code|\n",
      "+-----+-----------+-------+---------+---------+------+--------+------+------+--------+----------+-----------+-----------+-------------+----------------+------------+------------+-----------+\n",
      "|  11a|        13c|    100|      900|       CR|     0|    2016|     8|     3| 9:58:18|2016-08-03|          2|          9|           31|               0|          31|           1|          1|\n",
      "|  11a|        13c|1000000|      900|       DR|     0|    2016|     8|     5|10:58:18|2016-08-05|          4|         10|           31|               1|          31|           1|          1|\n",
      "|  11a|        13c|  10000|      900|       DR|     0|    2016|     9|    10|11:58:18|2016-09-10|          5|         11|           30|               2|          30|           2|          1|\n",
      "|  11a|        13c|  10000|      900|       DR|     0|    2016|     9|    10|11:58:18|2016-09-10|          5|         11|           30|               2|          30|           2|          1|\n",
      "|  11a|        14d| 200000|      901|       DR|     0|    2016|    10|     3|12:58:18|2016-10-03|          0|         12|           31|               0|          31|           1|          2|\n",
      "|  12b|        15c|  30000|      902|       DR|     0|    2016|    12|     3|13:58:18|2016-12-03|          5|         13|           31|               2|          31|           1|          2|\n",
      "|  12b|        16d| 200000|      903|       CR|     0|    2016|     8|    30|14:58:18|2016-08-30|          1|         14|           31|               0|          31|           4|          2|\n",
      "|  12b|        16d|   5000|      904|       CR|     0|    2016|     8|    13|15:58:18|2016-08-13|          5|         15|           31|               2|          31|           2|          2|\n",
      "|  13c|        11b|     10|      904|       CR|     0|    2016|     2|     3|16:58:18|2016-02-03|          2|         16|           29|               0|          29|        null|          2|\n",
      "+-----+-----------+-------+---------+---------+------+--------+------+------+--------+----------+-----------+-----------+-------------+----------------+------------+------------+-----------+\n",
      "\n"
     ]
    }
   ],
   "source": [
    "# Re-organize the original data set\n",
    "\n",
    "def no_days_in_month(month, year):\n",
    "    if month in day_months_31: \n",
    "        return 31\n",
    "    elif month in day_months_30:\n",
    "        return 30\n",
    "    else:\n",
    "        if calendar.isleap(year):\n",
    "            return 29\n",
    "        else:\n",
    "            return 28\n",
    "        \n",
    "def day_of_week_code(day_of_week):\n",
    "    if day_of_week < 4:\n",
    "        return 0\n",
    "    elif day_of_week > 4:\n",
    "        return 2\n",
    "    else:\n",
    "        return 1\n",
    "    \n",
    "def quarter_code(date, month):\n",
    "    month_31_days = [1,3,5,7,8,10,12]\n",
    "    month_30_days = [4,6,9,11]\n",
    "    if(month in month_31_days):\n",
    "        if(date in range(1,9)):\n",
    "            return 1\n",
    "        elif(date in range(9,16)):\n",
    "            return 2\n",
    "        elif(date in range(16,24)):\n",
    "            return 3\n",
    "        else:\n",
    "            return 4\n",
    "    elif(month in month_30_days):\n",
    "        if(date in range(1,9)):\n",
    "            return 1\n",
    "        elif(date in range(9,16)):\n",
    "            return 2\n",
    "        elif(date in range(16,23)):\n",
    "            return 3\n",
    "        else:\n",
    "            return 4\n",
    "    else: # February\n",
    "        return date / 4 \n",
    "\n",
    "def period_code(time):\n",
    "    hour = int(time[:-6])\n",
    "    if hour in range(0, 6):\n",
    "        return 0\n",
    "    elif hour in range(6, 12):\n",
    "        return 1\n",
    "    elif hour in range(12, 18):\n",
    "        return 2\n",
    "    else:\n",
    "        return 3\n",
    "\n",
    "date = udf(lambda y, m, d : datetime.datetime(y, m ,d), DateType())\n",
    "day_of_week = udf(lambda date : int(date.weekday()), IntegerType())\n",
    "day_of_week_code_udf = udf(day_of_week_code, IntegerType())\n",
    "quarter_code_udf = udf(quarter_code, IntegerType())\n",
    "period_code_udf = udf(period_code, IntegerType())\n",
    "\n",
    "df = df.withColumn(\"date\", date(df[\"ptn_yyyy\"], df[\"ptn_mm\"], df[\"ptn_dd\"]))\n",
    "df = df.withColumn(\"day_of_week\", day_of_week(df[\"date\"]))\n",
    "df = df.withColumn(\"day_of_week_code\", day_of_week_code_udf(df[\"day_of_week\"]))\n",
    "df = df.withColumn(\"quarter_code\", quarter_code_udf(df[\"ptn_dd\"], df[\"ptn_mm\"]))\n",
    "df = df.withColumn(\"period_code\", period_code_udf(df[\"txn_tm\"]))\n",
    "\n",
    "\n",
    "# df = df.select(\"ar_id\", \"fm_to_ar_id\", \"txn_amt\", \"svc_br_no\", \"opm_tp_cd\", \"txn_cd\", \"day_of_week_code\")\n",
    "df.show()"
   ]
  },
  {
   "cell_type": "code",
   "execution_count": 144,
   "metadata": {},
   "outputs": [
    {
     "name": "stdout",
     "output_type": "stream",
     "text": [
      "+-----------+\n",
      "|day_of_week|\n",
      "+-----------+\n",
      "|          2|\n",
      "|          4|\n",
      "|          5|\n",
      "|          5|\n",
      "|          0|\n",
      "|          5|\n",
      "|          1|\n",
      "|          5|\n",
      "|          2|\n",
      "+-----------+\n",
      "\n"
     ]
    }
   ],
   "source": [
    "df.select(\"day_of_week\").show()"
   ]
  },
  {
   "cell_type": "code",
   "execution_count": 93,
   "metadata": {
    "scrolled": true
   },
   "outputs": [
    {
     "name": "stdout",
     "output_type": "stream",
     "text": [
      "+-----+\n",
      "|ar_id|\n",
      "+-----+\n",
      "|  13c|\n",
      "|  11a|\n",
      "|  12b|\n",
      "|  16d|\n",
      "|  15c|\n",
      "|  14d|\n",
      "|  13c|\n",
      "|  11b|\n",
      "+-----+\n",
      "\n"
     ]
    }
   ],
   "source": [
    "data = df.select(\"ar_id\").distinct().union(df.select(\"fm_to_ar_id\").distinct()).dropna()\n",
    "data.show()"
   ]
  },
  {
   "cell_type": "code",
   "execution_count": 151,
   "metadata": {},
   "outputs": [],
   "source": [
    "# define feature extraction functions\n",
    "\n",
    "def noDepositBranchVisit(is_unique):\n",
    "    if (is_unique):\n",
    "        return df.select(\"ar_id\", \"svc_br_no\").groupby(\"ar_id\").agg({\"svc_br_no\" : \"count\"}).withColumnRenamed(\"count(svc_br_no)\", \"noDepositBranchVisit\")\n",
    "    else:\n",
    "        return df.select(\"ar_id\", \"svc_br_no\").distinct().groupby(\"ar_id\").agg({\"svc_br_no\" : \"count\"}).withColumnRenamed(\"count(svc_br_no)\", \"noDepositBranchVisitUnique\")\n",
    "    \n",
    "def noDepositTransferIn(is_unique):\n",
    "    if (is_unique):\n",
    "        return df.filter(\"opm_tp_cd = 'CR' and txn_cd = 0\").groupby([\"ar_id\", \"fm_to_ar_id\"]).agg({\"*\" : \"count\"}).withColumnRenamed(\"count(1)\", \"noDepositTransferInUnique\")\n",
    "    else:\n",
    "        return df.filter(\"opm_tp_cd = 'CR' and txn_cd = 0\").groupby(\"ar_id\").agg({\"*\" : \"count\"}).withColumnRenamed(\"count(1)\", \"noDepositTransferIn\")\n",
    "    \n",
    "def noDepositTransferOut(is_unique):\n",
    "    if (is_unique):\n",
    "        return df.filter(\"opm_tp_cd = 'DR' and txn_cd = 0\").groupby([\"ar_id\", \"fm_to_ar_id\"]).agg({\"*\" : \"count\"}).withColumnRenamed(\"count(1)\", \"noDepositTransferOutUniqie\")\n",
    "    else:\n",
    "        return df.filter(\"opm_tp_cd = 'DR' and txn_cd = 0\").groupby(\"ar_id\").agg({\"*\" : \"count\"}).withColumnRenamed(\"count(1)\", \"noDepositTransferOut\")\n",
    "\n",
    "def noDeposit(): \n",
    "    return df.filter(\"opm_tp_cd = 'CR' and txn_cd = 1\").groupby(\"ar_id\").agg({\"*\" : \"count\"}).withColumnRenamed(\"count(1)\", \"noDeposit\")\n",
    "\n",
    "def noWithdraw(): \n",
    "    return df.filter(\"opm_tp_cd = 'DR' and txn_cd = 2\").groupby(\"ar_id\").agg({\"*\" : \"count\"}).withColumnRenamed(\"count(1)\", \"noWithdraw\")\n",
    "\n",
    "def depositAmount(): \n",
    "    return df.filter(\"opm_tp_cd = 'CR' and txn_cd = 1\").groupby(\"ar_id\").agg({\"txn_amt\" : \"sum\"}).withColumnRenamed(\"sum(txn_amt)\", \"depositAmount\")\n",
    "\n",
    "def withdrawAmount(): \n",
    "    return df.filter(\"opm_tp_cd = 'DR' and txn_cd = 2\").groupby(\"ar_id\").agg({\"txn_amt\" : \"sum\"}).withColumnRenamed(\"sum(txn_amt)\", \"withdrawAmount\")\n",
    "\n",
    "def transferInAmount():\n",
    "    return df.filter(\"opm_tp_cd = 'CR' and txn_cd = 0\").groupby(\"ar_id\").agg({\"txn_amt\" : \"sum\"}).withColumnRenamed(\"sum(txn_amt)\", \"transferInAmount\")\n",
    "    \n",
    "def transferOutAmount():\n",
    "    return df.filter(\"opm_tp_cd = 'DR' and txn_cd = 0\").groupby(\"ar_id\").agg({\"txn_amt\" : \"sum\"}).withColumnRenamed(\"sum(txn_amt)\", \"transferOutAmount\")"
   ]
  },
  {
   "cell_type": "code",
   "execution_count": 154,
   "metadata": {
    "collapsed": true
   },
   "outputs": [],
   "source": [
    "# define udf functions for all about ratio\n",
    "ratioDepositBranchVisit = udf(lambda visit, unique_visit : visit / unique_visit)\n",
    "ratioTransferIn = udf(lambda transfer_in, transfer_in_unique : transfer_in / transfer_in_unique)\n",
    "ratioTransferOut = udf(lambda transfer_out, transfer_out_unique : transfer_out / transfer_out_unique)"
   ]
  },
  {
   "cell_type": "code",
   "execution_count": 153,
   "metadata": {},
   "outputs": [
    {
     "name": "stdout",
     "output_type": "stream",
     "text": [
      "+-----+-----------------+\n",
      "|ar_id|transferOutAmount|\n",
      "+-----+-----------------+\n",
      "|  11a|          1220000|\n",
      "|  12b|            30000|\n",
      "+-----+-----------------+\n",
      "\n"
     ]
    }
   ],
   "source": [
    "# noDepositBranchVisit(is_unique=True).show()\n",
    "\n",
    "# noDepositTransferIn(is_unique=True).show()\n",
    "\n",
    "# noDepositTransferOut(is_unique=True).show()\n",
    "\n",
    "transferOutAmount().show()"
   ]
  },
  {
   "cell_type": "code",
   "execution_count": null,
   "metadata": {
    "collapsed": true
   },
   "outputs": [],
   "source": []
  }
 ],
 "metadata": {
  "kernelspec": {
   "display_name": "Python 3",
   "language": "python",
   "name": "python3"
  },
  "language_info": {
   "codemirror_mode": {
    "name": "ipython",
    "version": 3
   },
   "file_extension": ".py",
   "mimetype": "text/x-python",
   "name": "python",
   "nbconvert_exporter": "python",
   "pygments_lexer": "ipython3",
   "version": "3.5.0"
  }
 },
 "nbformat": 4,
 "nbformat_minor": 2
}
