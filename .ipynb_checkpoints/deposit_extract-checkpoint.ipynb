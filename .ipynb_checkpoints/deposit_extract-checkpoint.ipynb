{
 "cells": [
  {
   "cell_type": "code",
   "execution_count": 1,
   "metadata": {},
   "outputs": [
    {
     "name": "stdout",
     "output_type": "stream",
     "text": [
      "<pyspark.context.SparkContext object at 0x102a1b470>\n"
     ]
    }
   ],
   "source": [
    "from pyspark import SparkContext, SparkConf\n",
    "from pyspark.sql import SparkSession\n",
    "from pyspark.sql.functions import udf\n",
    "from pyspark.sql.types import IntegerType, FloatType, DateType\n",
    "import datetime, time\n",
    "\n",
    "print(sc)"
   ]
  },
  {
   "cell_type": "code",
   "execution_count": 2,
   "metadata": {},
   "outputs": [
    {
     "name": "stdout",
     "output_type": "stream",
     "text": [
      "<pyspark.sql.session.SparkSession object at 0x105135e48>\n"
     ]
    }
   ],
   "source": [
    "spark = (SparkSession\n",
    "         .builder\n",
    "         .appName(\"Catch you merchant\")\n",
    "         .config(\"spark.sql.warehouse.dir\", \"/opt/jupyter_workspace/spark-warehouse\")\n",
    "         .getOrCreate())\n",
    "print(spark)"
   ]
  },
  {
   "cell_type": "code",
   "execution_count": 11,
   "metadata": {
    "collapsed": true
   },
   "outputs": [],
   "source": [
    "workspace = \"/Users/AUM/Desktop/MerchantInsight/mock_data/\"\n",
    "\n",
    "df = (spark\n",
    "     .read\n",
    "     .option(\"header\", \"true\")\n",
    "     .option(\"inferSchema\", \"true\")\n",
    "     .csv(workspace + \"deposit_mock.csv\"))"
   ]
  },
  {
   "cell_type": "code",
   "execution_count": 12,
   "metadata": {
    "scrolled": true
   },
   "outputs": [
    {
     "name": "stdout",
     "output_type": "stream",
     "text": [
      "+-----+-----------+-------+---------+---------+------+---------+------+------+--------+\n",
      "|ar_id|fm_to_ar_id|txn_amt|svc_br_no|opm_tp_cd|txn_cd|ptn_yyyyy|ptn_mm|ptn_dd|  txn_tm|\n",
      "+-----+-----------+-------+---------+---------+------+---------+------+------+--------+\n",
      "|  11a|        13c|    100|      900|       CR|     0|     2016|     8|     3| 9:58:18|\n",
      "|  11a|        13c|1000000|      900|       DR|     0|     2016|     8|     5|10:58:18|\n",
      "|  11a|        13c|  10000|      900|       DR|     0|     2016|     9|    10|11:58:18|\n",
      "|  11a|        13c|  10000|      900|       DR|     0|     2016|     9|    10|11:58:18|\n",
      "|  11a|        14d| 200000|      901|       DR|     0|     2016|    10|     3|12:58:18|\n",
      "|  12b|        15c|  30000|      902|       DR|     0|     2016|    12|     3|13:58:18|\n",
      "|  12b|        16d| 200000|      903|       CR|     0|     2016|     8|    30|14:58:18|\n",
      "|  12b|        16d|   5000|      904|       CR|     0|     2016|     8|    13|15:58:18|\n",
      "+-----+-----------+-------+---------+---------+------+---------+------+------+--------+\n",
      "\n"
     ]
    }
   ],
   "source": [
    "df = df.dropna()\n",
    "\n",
    "df.show()"
   ]
  },
  {
   "cell_type": "code",
   "execution_count": 13,
   "metadata": {},
   "outputs": [],
   "source": [
    "date = udf(lambda y, m, d : datetime.datetime(y, m ,d), DateType())\n",
    "\n",
    "day_of_week = udf(lambda date : date.weekday(), IntegerType())\n",
    "\n",
    "hour_of_day = udf(lambda time_string : int(time_string[:-6]), IntegerType())"
   ]
  },
  {
   "cell_type": "code",
   "execution_count": 14,
   "metadata": {
    "collapsed": true
   },
   "outputs": [],
   "source": [
    "df = df.withColumn(\"date\", date(df[\"ptn_yyyyy\"], df[\"ptn_mm\"], df[\"ptn_dd\"]))\n",
    "\n",
    "df= df.withColumn(\"day_of_week\", day_of_week(df[\"date\"]))\n",
    "\n",
    "df = df.withColumn(\"hour_of_day\", hour_of_day(df[\"txn_tm\"]))"
   ]
  },
  {
   "cell_type": "code",
   "execution_count": 15,
   "metadata": {},
   "outputs": [
    {
     "name": "stdout",
     "output_type": "stream",
     "text": [
      "+-----+-----------+-------+---------+---------+------+---------+------+------+--------+----------+-----------+-----------+\n",
      "|ar_id|fm_to_ar_id|txn_amt|svc_br_no|opm_tp_cd|txn_cd|ptn_yyyyy|ptn_mm|ptn_dd|  txn_tm|      date|day_of_week|hour_of_day|\n",
      "+-----+-----------+-------+---------+---------+------+---------+------+------+--------+----------+-----------+-----------+\n",
      "|  11a|        13c|    100|      900|       CR|     0|     2016|     8|     3| 9:58:18|2016-08-03|          2|          9|\n",
      "|  11a|        13c|1000000|      900|       DR|     0|     2016|     8|     5|10:58:18|2016-08-05|          4|         10|\n",
      "|  11a|        13c|  10000|      900|       DR|     0|     2016|     9|    10|11:58:18|2016-09-10|          5|         11|\n",
      "|  11a|        13c|  10000|      900|       DR|     0|     2016|     9|    10|11:58:18|2016-09-10|          5|         11|\n",
      "|  11a|        14d| 200000|      901|       DR|     0|     2016|    10|     3|12:58:18|2016-10-03|          0|         12|\n",
      "|  12b|        15c|  30000|      902|       DR|     0|     2016|    12|     3|13:58:18|2016-12-03|          5|         13|\n",
      "|  12b|        16d| 200000|      903|       CR|     0|     2016|     8|    30|14:58:18|2016-08-30|          1|         14|\n",
      "|  12b|        16d|   5000|      904|       CR|     0|     2016|     8|    13|15:58:18|2016-08-13|          5|         15|\n",
      "+-----+-----------+-------+---------+---------+------+---------+------+------+--------+----------+-----------+-----------+\n",
      "\n"
     ]
    }
   ],
   "source": [
    "df.show()"
   ]
  },
  {
   "cell_type": "code",
   "execution_count": 138,
   "metadata": {
    "scrolled": true
   },
   "outputs": [
    {
     "name": "stdout",
     "output_type": "stream",
     "text": [
      "+-----+\n",
      "|ar_id|\n",
      "+-----+\n",
      "|  11a|\n",
      "|  12b|\n",
      "|  16d|\n",
      "|  15c|\n",
      "|  14d|\n",
      "|  13c|\n",
      "+-----+\n",
      "\n"
     ]
    }
   ],
   "source": [
    "data = df.select(\"ar_id\").distinct().union(df.select(\"fm_to_ar_id\").distinct()).dropna()\n",
    "data.show()"
   ]
  },
  {
   "cell_type": "code",
   "execution_count": null,
   "metadata": {
    "collapsed": true
   },
   "outputs": [],
   "source": [
    "# define variable\n",
    "month = 10"
   ]
  },
  {
   "cell_type": "code",
   "execution_count": 139,
   "metadata": {
    "collapsed": true
   },
   "outputs": [],
   "source": [
    "# define functions\n",
    "\n",
    "def noDepositBranchVisit():\n",
    "    return df.select(\"ar_id\", \"svc_br_no\").groupby(\"ar_id\").agg({\"svc_br_no\" : \"count\"})\n",
    "\n",
    "def noDepositBranchVisitUnique():\n",
    "    return df.select(\"ar_id\", \"svc_br_no\").distinct().groupby(\"ar_id\").agg({\"svc_br_no\" : \"count\"})\n",
    "\n",
    "def noDepositTransferIn():\n",
    "    return \n",
    "\n",
    "def noDepositTransfrtOut():\n",
    "    return\n",
    "\n",
    "def ratioDepositBranchVisit(visit, unique_visit):\n",
    "    return visit / unique_visit"
   ]
  },
  {
   "cell_type": "code",
   "execution_count": 140,
   "metadata": {},
   "outputs": [
    {
     "name": "stdout",
     "output_type": "stream",
     "text": [
      "+-----+----------------+\n",
      "|ar_id|count(svc_br_no)|\n",
      "+-----+----------------+\n",
      "|  11a|               5|\n",
      "|  12b|               3|\n",
      "+-----+----------------+\n",
      "\n",
      "+-----+----------------+\n",
      "|ar_id|count(svc_br_no)|\n",
      "+-----+----------------+\n",
      "|  11a|               2|\n",
      "|  12b|               3|\n",
      "+-----+----------------+\n",
      "\n"
     ]
    }
   ],
   "source": [
    "noDepositBranchVisit().show()\n",
    "\n",
    "noDepositBranchVisitUnique().show()"
   ]
  },
  {
   "cell_type": "code",
   "execution_count": null,
   "metadata": {
    "collapsed": true
   },
   "outputs": [],
   "source": []
  }
 ],
 "metadata": {
  "kernelspec": {
   "display_name": "Python 3",
   "language": "python",
   "name": "python3"
  },
  "language_info": {
   "codemirror_mode": {
    "name": "ipython",
    "version": 3
   },
   "file_extension": ".py",
   "mimetype": "text/x-python",
   "name": "python",
   "nbconvert_exporter": "python",
   "pygments_lexer": "ipython3",
   "version": "3.5.0"
  }
 },
 "nbformat": 4,
 "nbformat_minor": 2
}
