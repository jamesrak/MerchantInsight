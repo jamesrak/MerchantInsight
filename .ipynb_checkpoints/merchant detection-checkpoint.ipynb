{
 "cells": [
  {
   "cell_type": "code",
   "execution_count": 1,
   "metadata": {
    "collapsed": false
   },
   "outputs": [],
   "source": [
    "from pyspark import SparkContext\n",
    "from pyspark.sql import SparkSession\n",
    "from pyspark.conf import SparkConf\n",
    "from pyspark.ml import Pipeline, PipelineModel\n",
    "from pyspark.ml.feature import StringIndexer, IndexToString, VectorAssembler\n",
    "from pyspark.ml.feature import OneHotEncoder, StringIndexer\n",
    "from pyspark.sql.types import IntegerType\n",
    "from pyspark.sql.functions import udf\n",
    "from pyspark.sql import functions as F"
   ]
  },
  {
   "cell_type": "code",
   "execution_count": 2,
   "metadata": {
    "collapsed": false
   },
   "outputs": [
    {
     "name": "stdout",
     "output_type": "stream",
     "text": [
      "<pyspark.context.SparkContext object at 0x000002402944F860>\n"
     ]
    }
   ],
   "source": [
    "sc = SparkContext.getOrCreate()\n",
    "print(sc)"
   ]
  },
  {
   "cell_type": "code",
   "execution_count": 3,
   "metadata": {
    "collapsed": true
   },
   "outputs": [],
   "source": [
    "# join \n",
    "# ip <-> ar <-> mb\n",
    "#           <-> dept\n",
    "\n",
    "# ip <-> ar : \"ip_id\"\n",
    "# ip <-> cc_cst : \"x\"\n",
    "# cc_cst <-> cc_visa : \"x\"\n",
    "# ar <-> mb : \"src_ar_id\"\n",
    "# ar <-> dept : \"ar_id\"\n",
    "\n",
    "# DerivedFeature\n",
    "# [PerWeek & PerMonth]\n",
    "# noTransferInUnique, noTransferOutUnique, noTransferIn, noTransferOut, ratioTransferIn, ratioTransferOut\n",
    "# avgTransferInAmount, avgTransferOutAmount, avgTransferAmount\n",
    "# noFeeAmountGroupBy(0,10,25,35)\n",
    "# noTransferInPeriod(morning,afternoon,evening,night :: 6hr)\n",
    "# noTransferOutPeriod(morning,afternoon,evening,night :: 6hr)\n",
    "# noTransferInPerDay(Mon-Thu, Fri, Sat-Sun [avg]) <-- PerMonth\n",
    "# noTransferOutPerDay(Mon-Thu, Fri, Sat-Sun [avg]) <-- PerMonth\n",
    "# avgTransferInHoliday, avgTransferOutHoliday\n",
    "\n",
    "\n",
    "# Deposit\n",
    "# [PerWeek & PerMonth]\n",
    "# noBranchVisit,noBranchVisitUnique,ratioBranchVisit\n",
    "# avgTransferInAmount, avgTransferOutAmount, avgTransferAmount\n",
    "# noDepositAmount, noWithdrawAmount\n",
    "# avgDepositAmount, avgWithdrawAmount\n",
    "# noWithdrawPeriod(morning,afternoon,evening,night :: 6hr)\n",
    "# noDepositPeriod(morning,afternoon,evening,night :: 6hr)\n",
    "# noDepositPerDay(Mon-Thu, Fri, Sat-Sun [avg]) <-- PerMonth\n",
    "# noWithdrawPerDay(Mon-Thu, Fri, Sat-Sun [avg]) <-- PerMonth\n",
    "# noTransferInUnique, noTransferOutUnique, noTransferIn, noTransferOut, ratioTransferIn, ratioTransferOut\n",
    "# noTransferInPerDay(Mon-Thu, Fri, Sat-Sun [avg]) <-- PerMonth\n",
    "# noTransferOutPerDay(Mon-Thu, Fri, Sat-Sun [avg]) <-- PerMonth\n",
    "# ??Balance??\n",
    "# ??CBS Sub Operation Code??\n",
    "# ahrzd_usr_id <-- [KMP, EDC, ATM]\n",
    "\n",
    "# Credit\n",
    "\n",
    "\n",
    "# Approach\n",
    "# 1 Detech ลูกน้องโดยดูจำนวนเงินที่รับมากที่สุดแล้วเช็ค\n",
    "\n",
    "# Visualize\n",
    "# Location\n",
    "\n",
    "# feature = [\"vc_ip.ip_id\"]\n",
    "# category = [\"vc_ip.ip_tp_cd\",\"vc_ip.mar_st_cd\",\"vc_ip.ctf_tp_cd\",\"vc_ip.ocp_cd\",\"vc_ip.idv_incm_seg_cd\"]\n",
    "# filteredFeature = [\"vc_ip.prvn_f\",\"vc_ip.ip_st_cd\",\"vc_ip.death_f\"]"
   ]
  },
  {
   "cell_type": "code",
   "execution_count": 4,
   "metadata": {
    "collapsed": false
   },
   "outputs": [
    {
     "name": "stdout",
     "output_type": "stream",
     "text": [
      "<pyspark.sql.session.SparkSession object at 0x000002402944F358>\n"
     ]
    }
   ],
   "source": [
    "spark = (SparkSession\n",
    "         .builder\n",
    "         .appName(\"MerchantInsight\")\n",
    "         .config(\"spark.sql.warehouse.dir\", \"/opt/jupyter_workspace/spark-warehouse\")\n",
    "         .getOrCreate())\n",
    "print (spark)"
   ]
  },
  {
   "cell_type": "code",
   "execution_count": 15,
   "metadata": {
    "collapsed": false
   },
   "outputs": [],
   "source": [
    "mb_trans_data =(spark\n",
    "      .read\n",
    "      .option(\"header\", \"true\")\n",
    "      .option(\"inferSchema\",\"true\")\n",
    "      .csv('mock_data/mock-transaction.csv'))"
   ]
  },
  {
   "cell_type": "code",
   "execution_count": 16,
   "metadata": {
    "collapsed": false
   },
   "outputs": [
    {
     "name": "stdout",
     "output_type": "stream",
     "text": [
      "+--------+--------+--------+------+------+------+-------+\n",
      "|fm_ar_id|to_ar_id|ptn_yyyy|ptn_mm|ptn_dd|ptn_hr|ptn_min|\n",
      "+--------+--------+--------+------+------+------+-------+\n",
      "|     128|     140|    2016|     6|    19|    11|     22|\n",
      "|     114|     150|    2016|     8|     4|    13|     37|\n",
      "|     131|     120|    2016|     7|     6|    13|     31|\n",
      "|     144|     104|    2016|     9|    10|    11|     32|\n",
      "|     133|     130|    2016|    12|    15|    13|     25|\n",
      "|     109|     140|    2016|     6|    19|    22|     33|\n",
      "|     116|     146|    2016|     7|    23|    15|     57|\n",
      "|     110|     128|    2016|    10|    29|    20|     55|\n",
      "|     101|     123|    2016|     7|    10|    22|     52|\n",
      "|     128|     137|    2016|     8|    30|    20|     38|\n",
      "|     108|     114|    2016|    12|    19|    20|     49|\n",
      "|     103|     142|    2016|    12|    31|    18|      5|\n",
      "|     135|     123|    2016|     8|     3|    14|     52|\n",
      "|     118|     141|    2016|     7|    27|    15|     19|\n",
      "|     138|     145|    2016|     6|    22|    14|     56|\n",
      "|     126|     123|    2016|    11|    25|    21|     39|\n",
      "|     110|     107|    2016|     9|    26|    11|      6|\n",
      "|     118|     106|    2016|     6|    29|    11|     25|\n",
      "|     134|     101|    2016|     8|    18|     8|     28|\n",
      "|     129|     132|    2016|    10|    12|    14|     28|\n",
      "+--------+--------+--------+------+------+------+-------+\n",
      "only showing top 20 rows\n",
      "\n"
     ]
    }
   ],
   "source": [
    "mb_trans_data.show()"
   ]
  },
  {
   "cell_type": "code",
   "execution_count": 17,
   "metadata": {
    "collapsed": false
   },
   "outputs": [],
   "source": [
    "#Pre-processing data\n",
    "def getQuarter(dd,mm):\n",
    "    m31 = [1,3,5,7,8,10,12]\n",
    "    m30 = [4,6,9,11]\n",
    "    if(mm in m31):\n",
    "        if(dd in range(1,9)):\n",
    "            return 1\n",
    "        elif(dd in range(9,16)):\n",
    "            return 2\n",
    "        elif(dd in range(16,24)):\n",
    "            return 3\n",
    "        else:\n",
    "            return 4\n",
    "    elif(mm in m30):\n",
    "        if(dd in range(1,9)):\n",
    "            return 1\n",
    "        elif(dd in range(9,16)):\n",
    "            return 2\n",
    "        elif(dd in range(16,23)):\n",
    "            return 3\n",
    "        else:\n",
    "            return 4\n",
    "    else:\n",
    "        return dd/4\n",
    "\n",
    "getQuarterUdf = udf(getQuarter,IntegerType()) "
   ]
  },
  {
   "cell_type": "code",
   "execution_count": 24,
   "metadata": {
    "collapsed": false
   },
   "outputs": [
    {
     "data": {
      "text/plain": [
       "3"
      ]
     },
     "execution_count": 24,
     "metadata": {},
     "output_type": "execute_result"
    }
   ],
   "source": [
    "getQuarter(19,12)"
   ]
  },
  {
   "cell_type": "code",
   "execution_count": 18,
   "metadata": {
    "collapsed": false
   },
   "outputs": [
    {
     "name": "stdout",
     "output_type": "stream",
     "text": [
      "+--------+--------+--------+------+------+------+-------+-------+\n",
      "|fm_ar_id|to_ar_id|ptn_yyyy|ptn_mm|ptn_dd|ptn_hr|ptn_min|quarter|\n",
      "+--------+--------+--------+------+------+------+-------+-------+\n",
      "|     128|     140|    2016|     6|    19|    11|     22|      3|\n",
      "|     114|     150|    2016|     8|     4|    13|     37|      1|\n",
      "|     131|     120|    2016|     7|     6|    13|     31|      1|\n",
      "|     144|     104|    2016|     9|    10|    11|     32|      2|\n",
      "|     133|     130|    2016|    12|    15|    13|     25|      2|\n",
      "|     109|     140|    2016|     6|    19|    22|     33|      3|\n",
      "|     116|     146|    2016|     7|    23|    15|     57|      3|\n",
      "|     110|     128|    2016|    10|    29|    20|     55|      4|\n",
      "|     101|     123|    2016|     7|    10|    22|     52|      2|\n",
      "|     128|     137|    2016|     8|    30|    20|     38|      4|\n",
      "|     108|     114|    2016|    12|    19|    20|     49|      3|\n",
      "|     103|     142|    2016|    12|    31|    18|      5|      4|\n",
      "|     135|     123|    2016|     8|     3|    14|     52|      1|\n",
      "|     118|     141|    2016|     7|    27|    15|     19|      4|\n",
      "|     138|     145|    2016|     6|    22|    14|     56|      3|\n",
      "|     126|     123|    2016|    11|    25|    21|     39|      4|\n",
      "|     110|     107|    2016|     9|    26|    11|      6|      4|\n",
      "|     118|     106|    2016|     6|    29|    11|     25|      4|\n",
      "|     134|     101|    2016|     8|    18|     8|     28|      3|\n",
      "|     129|     132|    2016|    10|    12|    14|     28|      2|\n",
      "+--------+--------+--------+------+------+------+-------+-------+\n",
      "only showing top 20 rows\n",
      "\n"
     ]
    }
   ],
   "source": [
    "mb_trans_data = mb_trans_data.withColumn(\"quarter\",getQuarterUdf(mb_trans_data['ptn_dd'],mb_trans_data['ptn_mm']))\n",
    "mb_trans_data.show()"
   ]
  },
  {
   "cell_type": "code",
   "execution_count": 19,
   "metadata": {
    "collapsed": false
   },
   "outputs": [
    {
     "data": {
      "text/plain": [
       "3"
      ]
     },
     "execution_count": 19,
     "metadata": {},
     "output_type": "execute_result"
    }
   ],
   "source": [
    "getQuarter(16,5)"
   ]
  },
  {
   "cell_type": "code",
   "execution_count": 41,
   "metadata": {
    "collapsed": false
   },
   "outputs": [
    {
     "name": "stdout",
     "output_type": "stream",
     "text": [
      "+--------+-------+-----+\n",
      "|fm_ar_id|quarter|count|\n",
      "+--------+-------+-----+\n",
      "|     101|      1|    1|\n",
      "|     101|      2|    3|\n",
      "|     101|      4|    2|\n",
      "|     102|      1|    1|\n",
      "|     102|      2|    3|\n",
      "|     102|      3|    1|\n",
      "|     102|      4|    4|\n",
      "|     103|      2|    1|\n",
      "|     103|      4|    2|\n",
      "|     104|      2|    1|\n",
      "|     104|      3|    2|\n",
      "|     105|      1|    1|\n",
      "|     105|      4|    3|\n",
      "|     106|      1|    1|\n",
      "|     106|      4|    2|\n",
      "|     107|      1|    1|\n",
      "|     107|      4|    5|\n",
      "|     108|      1|    4|\n",
      "|     108|      2|    2|\n",
      "|     108|      3|    3|\n",
      "+--------+-------+-----+\n",
      "only showing top 20 rows\n",
      "\n"
     ]
    }
   ],
   "source": [
    "# mb_trans_data.select('fm_ar_id').groupby('fm_ar_id').count().show()\n",
    "mb_trans_data.select('fm_ar_id',mb_trans_data['quarter']).groupby(['fm_ar_id','quarter']).count().sort(['fm_ar_id','quarter']).show()\n",
    "# mb_trans_data.groupby(mb_trans_data['quarter']).count().show()\n",
    "# F.count(mb_trans_data['quarter']==1).alias(\"noMbTransferOutDuringQ1\")"
   ]
  },
  {
   "cell_type": "code",
   "execution_count": 53,
   "metadata": {
    "collapsed": false
   },
   "outputs": [
    {
     "name": "stdout",
     "output_type": "stream",
     "text": [
      "+-----+-----------------+-----------------+-----------------+-----------------+\n",
      "|ar_id|noMbTransferOutQ1|noMbTransferOutQ2|noMbTransferOutQ3|noMbTransferOutQ4|\n",
      "+-----+-----------------+-----------------+-----------------+-----------------+\n",
      "|  101|                1|                3|                0|                2|\n",
      "|  102|                1|                3|                1|                4|\n",
      "|  103|                0|                1|                0|                2|\n",
      "|  104|                0|                1|                2|                0|\n",
      "|  105|                1|                0|                0|                3|\n",
      "|  106|                1|                0|                0|                2|\n",
      "|  107|                1|                0|                0|                5|\n",
      "|  108|                4|                2|                3|                1|\n",
      "|  109|                0|                1|                1|                3|\n",
      "|  110|                1|                0|                1|                3|\n",
      "|  112|                3|                1|                0|                2|\n",
      "|  113|                1|                2|                1|                0|\n",
      "|  114|                1|                1|                0|                1|\n",
      "|  115|                0|                1|                0|                2|\n",
      "|  116|                1|                0|                3|                2|\n",
      "|  117|                4|                0|                1|                1|\n",
      "|  118|                1|                1|                0|                5|\n",
      "|  119|                0|                1|                3|                4|\n",
      "|  120|                1|                0|                2|                3|\n",
      "|  121|                1|                0|                1|                3|\n",
      "+-----+-----------------+-----------------+-----------------+-----------------+\n",
      "only showing top 20 rows\n",
      "\n"
     ]
    }
   ],
   "source": [
    "# mb_trans_data.select('fm_ar_id','quarter').groupby(['fm_ar_id','quarter']).agg(F.count(mb_trans_data['quarter']==1).alias(\"noMbTransferOutDuringQ1\")).sort('fm_ar_id').show()\n",
    "mb_trans_data.select('fm_ar_id','to_ar_id','quarter').distinct()\n",
    "mb_trans_data.stat.crosstab(\"fm_ar_id\",\"quarter\").sort('fm_ar_id_quarter')\\\n",
    ".toDF('ar_id','noMbTransferOutQ1','noMbTransferOutQ2','noMbTransferOutQ3','noMbTransferOutQ4').show()"
   ]
  },
  {
   "cell_type": "markdown",
   "metadata": {},
   "source": [
    "## Features Extraction"
   ]
  },
  {
   "cell_type": "code",
   "execution_count": 22,
   "metadata": {
    "collapsed": false
   },
   "outputs": [],
   "source": [
    "#Feature Extraction\n",
    "def getMbFrequency(columnName,newColumnName):\n",
    "    freqIn = mb_trans_data.select(columnName).groupby(columnName).count()\n",
    "    if((columnName == \"fm_ar_id\") | (columnName == \"to_ar_id\")):\n",
    "        freqIn = freqIn.withColumnRenamed(columnName,\"ar_id\")\n",
    "    freqIn = freqIn.withColumnRenamed(\"count\",newColumnName)\n",
    "    return freqIn"
   ]
  },
  {
   "cell_type": "code",
   "execution_count": 60,
   "metadata": {
    "collapsed": true
   },
   "outputs": [],
   "source": [
    "#Feature Extraction V2\n",
    "def getMbFrequencyPerQuarter(columnName,newColumnName):\n",
    "    freqIn = mb_trans_data.stat.crosstab(columnName,\"quarter\")\\\n",
    "    .toDF(columnName,newColumnName+'Q1',newColumnName+'Q2',newColumnName+'Q3',newColumnName+'Q4')\n",
    "    if((columnName == \"fm_ar_id\") | (columnName == \"to_ar_id\")):\n",
    "        freqIn = freqIn.withColumnRenamed(columnName,\"ar_id\")\n",
    "    return freqIn\n",
    "\n",
    "def getMbFrequencyUniquePerQuarter(columnName,newColumnName):\n",
    "    mb_trans_data_unique = mb_trans_data.select('fm_ar_id','to_ar_id','quarter').distinct()\n",
    "    freqIn = mb_trans_data_unique.stat.crosstab(columnName,\"quarter\")\\\n",
    "    .toDF(columnName,newColumnName+'Q1',newColumnName+'Q2',newColumnName+'Q3',newColumnName+'Q4')\n",
    "    if((columnName == \"fm_ar_id\") | (columnName == \"to_ar_id\")):\n",
    "        freqIn = freqIn.withColumnRenamed(columnName,\"ar_id\")\n",
    "    return freqIn"
   ]
  },
  {
   "cell_type": "code",
   "execution_count": 68,
   "metadata": {
    "collapsed": false
   },
   "outputs": [
    {
     "name": "stdout",
     "output_type": "stream",
     "text": [
      "root\n",
      " |-- ar_id: integer (nullable = true)\n",
      " |-- noMbTransferOutQ1: long (nullable = true)\n",
      " |-- noMbTransferOutQ2: long (nullable = true)\n",
      " |-- noMbTransferOutQ3: long (nullable = true)\n",
      " |-- noMbTransferOutQ4: long (nullable = true)\n",
      " |--  noMbTransferInQ1: long (nullable = true)\n",
      " |--  noMbTransferInQ2: long (nullable = true)\n",
      " |--  noMbTransferInQ3: long (nullable = true)\n",
      " |--  noMbTransferInQ4: long (nullable = true)\n",
      " |--  noMbTransferOutUniqueQ1: long (nullable = true)\n",
      " |--  noMbTransferOutUniqueQ2: long (nullable = true)\n",
      " |--  noMbTransferOutUniqueQ3: long (nullable = true)\n",
      " |--  noMbTransferOutUniqueQ4: long (nullable = true)\n",
      " |--  noMbTransferInUniqueQ1: long (nullable = true)\n",
      " |--  noMbTransferInUniqueQ2: long (nullable = true)\n",
      " |--  noMbTransferInUniqueQ3: long (nullable = true)\n",
      " |--  noMbTransferInUniqueQ4: long (nullable = true)\n",
      "\n"
     ]
    }
   ],
   "source": [
    "df = mb_trans_data.select(\"fm_ar_id\").distinct().withColumnRenamed(\"fm_ar_id\",\"ar_id\")\n",
    "train_data = df.join(getMbFrequencyPerQuarter(\"fm_ar_id\",\"noMbTransferOut\"),\"ar_id\",\"left_outer\")\n",
    "train_data = train_data.join(getMbFrequencyPerQuarter(\"to_ar_id\",\" noMbTransferIn\"),\"ar_id\",\"left_outer\")\n",
    "train_data = train_data.join(getMbFrequencyUniquePerQuarter(\"fm_ar_id\",\" noMbTransferOutUnique\"),\"ar_id\",\"left_outer\")\n",
    "train_data = train_data.join(getMbFrequencyUniquePerQuarter(\"to_ar_id\",\" noMbTransferInUnique\"),\"ar_id\",\"left_outer\")\n",
    "train_data.printSchema()"
   ]
  }
 ],
 "metadata": {
  "kernelspec": {
   "display_name": "Python 3",
   "language": "python",
   "name": "python3"
  },
  "language_info": {
   "codemirror_mode": {
    "name": "ipython",
    "version": 3
   },
   "file_extension": ".py",
   "mimetype": "text/x-python",
   "name": "python",
   "nbconvert_exporter": "python",
   "pygments_lexer": "ipython3",
   "version": "3.6.0"
  }
 },
 "nbformat": 4,
 "nbformat_minor": 2
}
